{
 "cells": [
  {
   "cell_type": "code",
   "execution_count": 2,
   "metadata": {},
   "outputs": [],
   "source": [
    "import psycopg2\n",
    "import pandas as pd\n",
    "from dotenv import dotenv_values\n",
    "import duckdb"
   ]
  },
  {
   "cell_type": "code",
   "execution_count": 3,
   "metadata": {},
   "outputs": [],
   "source": [
    "config = dotenv_values()"
   ]
  },
  {
   "cell_type": "code",
   "execution_count": 5,
   "metadata": {},
   "outputs": [],
   "source": [
    "conn = psycopg2.connect(\n",
    "    database=config['POSTGRES_DB'],\n",
    "    user=config['POSTGRES_USER'],\n",
    "    password=config['POSTGRES_PASSWORD'],\n",
    "    port=config['HOST_PORT']\n",
    ")"
   ]
  },
  {
   "cell_type": "code",
   "execution_count": 11,
   "metadata": {},
   "outputs": [
    {
     "name": "stderr",
     "output_type": "stream",
     "text": [
      "C:\\Users\\jlpay\\AppData\\Local\\Temp\\ipykernel_14920\\3284293064.py:1: UserWarning: pandas only supports SQLAlchemy connectable (engine/connection) or database string URI or sqlite3 DBAPI2 connection. Other DBAPI2 objects are not tested. Please consider using SQLAlchemy.\n",
      "  df = pd.read_sql(\"select * from actor_films\", conn)\n"
     ]
    }
   ],
   "source": [
    "df = pd.read_sql(\"select * from actor_films\", conn)"
   ]
  },
  {
   "cell_type": "code",
   "execution_count": 18,
   "metadata": {},
   "outputs": [],
   "source": [
    "with duckdb.connect(\"./src/db.duckdb\") as con:\n",
    "    con.sql(\"\"\"CREATE TABLE actor_films (\n",
    "            actor text,\n",
    "            actorid text,\n",
    "            film text,\n",
    "            year int,\n",
    "            votes int,\n",
    "            rating real,\n",
    "            filmid text\n",
    "            )\"\"\")\n",
    "    con.sql(\"\"\"\n",
    "INSERT INTO actor_films\n",
    "SELECT * FROM df\n",
    "\"\"\")"
   ]
  },
  {
   "cell_type": "code",
   "execution_count": 20,
   "metadata": {},
   "outputs": [
    {
     "name": "stdout",
     "output_type": "stream",
     "text": [
      "┌───────────────┬───────────┬───────────────────────────────┬───────┬───────┬────────┬───────────┐\n",
      "│     actor     │  actorid  │             film              │ year  │ votes │ rating │  filmid   │\n",
      "│    varchar    │  varchar  │            varchar            │ int32 │ int32 │ float  │  varchar  │\n",
      "├───────────────┼───────────┼───────────────────────────────┼───────┼───────┼────────┼───────────┤\n",
      "│ Fred Astaire  │ nm0000001 │ Ghost Story                   │  1981 │  7731 │    6.3 │ tt0082449 │\n",
      "│ Fred Astaire  │ nm0000001 │ The Purple Taxi               │  1977 │   533 │    6.6 │ tt0076851 │\n",
      "│ Fred Astaire  │ nm0000001 │ The Amazing Dobermans         │  1976 │   369 │    5.3 │ tt0074130 │\n",
      "│ Fred Astaire  │ nm0000001 │ The Towering Inferno          │  1974 │ 39888 │    7.0 │ tt0072308 │\n",
      "│ Lauren Bacall │ nm0000002 │ Ernest & Celestine            │  2012 │ 18793 │    7.9 │ tt1816518 │\n",
      "│ Lauren Bacall │ nm0000002 │ The Forger                    │  2012 │  4472 │    5.4 │ tt1368858 │\n",
      "│ Lauren Bacall │ nm0000002 │ All at Sea                    │  2010 │   110 │    5.7 │ tt0858500 │\n",
      "│ Lauren Bacall │ nm0000002 │ The Walker                    │  2007 │  5256 │    5.8 │ tt0783608 │\n",
      "│ Lauren Bacall │ nm0000002 │ Manderlay                     │  2005 │ 22622 │    7.3 │ tt0342735 │\n",
      "│ Lauren Bacall │ nm0000002 │ These Foolish Things          │  2005 │   358 │    5.6 │ tt0439848 │\n",
      "│       ·       │     ·     │    ·                          │    ·  │    ·  │     ·  │     ·     │\n",
      "│       ·       │     ·     │    ·                          │    ·  │    ·  │     ·  │     ·     │\n",
      "│       ·       │     ·     │    ·                          │    ·  │    ·  │     ·  │     ·     │\n",
      "│ Michael Caine │ nm0000323 │ The Hand                      │  1981 │  5560 │    5.5 │ tt0082497 │\n",
      "│ Michael Caine │ nm0000323 │ Dressed to Kill               │  1980 │ 36055 │    7.1 │ tt0080661 │\n",
      "│ Michael Caine │ nm0000323 │ The Island                    │  1980 │  3847 │    5.3 │ tt0080934 │\n",
      "│ Michael Caine │ nm0000323 │ Beyond the Poseidon Adventure │  1979 │  4783 │    4.7 │ tt0078856 │\n",
      "│ Michael Caine │ nm0000323 │ Ashanti                       │  1979 │  1717 │    5.5 │ tt0078801 │\n",
      "│ Michael Caine │ nm0000323 │ The Swarm                     │  1978 │  7002 │    4.5 │ tt0078350 │\n",
      "│ Michael Caine │ nm0000323 │ California Suite              │  1978 │  6730 │    6.2 │ tt0077289 │\n",
      "│ Michael Caine │ nm0000323 │ A Bridge Too Far              │  1977 │ 52698 │    7.4 │ tt0075784 │\n",
      "│ Michael Caine │ nm0000323 │ Silver Bears                  │  1977 │   876 │    6.1 │ tt0076715 │\n",
      "│ Michael Caine │ nm0000323 │ The Eagle Has Landed          │  1976 │ 19705 │    6.9 │ tt0074452 │\n",
      "├───────────────┴───────────┴───────────────────────────────┴───────┴───────┴────────┴───────────┤\n",
      "│ ? rows (>9999 rows, 20 shown)                                                        7 columns │\n",
      "└────────────────────────────────────────────────────────────────────────────────────────────────┘\n",
      "\n"
     ]
    }
   ],
   "source": [
    "with duckdb.connect(\"./src/db.duckdb\") as con:\n",
    "    con.table(\"actor_films\").show()"
   ]
  },
  {
   "cell_type": "code",
   "execution_count": 34,
   "metadata": {},
   "outputs": [
    {
     "name": "stdout",
     "output_type": "stream",
     "text": [
      "┌─────────┬───────┬─────────┬──────────────┐\n",
      "│ actorid │ year  │ filmid  │ count_star() │\n",
      "│ varchar │ int32 │ varchar │    int64     │\n",
      "├─────────┴───────┴─────────┴──────────────┤\n",
      "│                  0 rows                  │\n",
      "└──────────────────────────────────────────┘\n",
      "\n"
     ]
    }
   ],
   "source": [
    "with duckdb.connect(\"./src/db.duckdb\") as con:\n",
    "    con.sql(\"\"\"\n",
    "SELECT\n",
    "    actorid,\n",
    "            year,\n",
    "            filmid,\n",
    "            count(*)\n",
    "FROM actor_films\n",
    "            group by all\n",
    "having\n",
    "            count(*) > 1\n",
    "\"\"\").show()"
   ]
  },
  {
   "cell_type": "code",
   "execution_count": 33,
   "metadata": {},
   "outputs": [
    {
     "name": "stdout",
     "output_type": "stream",
     "text": [
      "┌─────────────────┬───────────┬────────────────┬───────┬───────┬────────┬───────────┐\n",
      "│      actor      │  actorid  │      film      │ year  │ votes │ rating │  filmid   │\n",
      "│     varchar     │  varchar  │    varchar     │ int32 │ int32 │ float  │  varchar  │\n",
      "├─────────────────┼───────────┼────────────────┼───────┼───────┼────────┼───────────┤\n",
      "│ Rodrigo Santoro │ nm0763928 │ Che: Part One  │  2008 │ 44468 │    7.2 │ tt0892255 │\n",
      "│ Rodrigo Santoro │ nm0763928 │ Che: Part Two  │  2008 │ 32407 │    6.9 │ tt0374569 │\n",
      "│ Rodrigo Santoro │ nm0763928 │ Redbelt        │  2008 │ 20361 │    6.7 │ tt1012804 │\n",
      "│ Rodrigo Santoro │ nm0763928 │ Lion's Den     │  2008 │  2987 │    7.0 │ tt1022606 │\n",
      "│ Rodrigo Santoro │ nm0763928 │ Os Desafinados │  2008 │   397 │    6.1 │ tt0456122 │\n",
      "└─────────────────┴───────────┴────────────────┴───────┴───────┴────────┴───────────┘\n",
      "\n"
     ]
    }
   ],
   "source": [
    "with duckdb.connect(\"./src/db.duckdb\") as con:\n",
    "    con.sql(\"\"\"\n",
    "SELECT\n",
    "    *\n",
    "FROM actor_films\n",
    "where\n",
    "            actorid = 'nm0763928'\n",
    "            and year = 2008\n",
    "\"\"\").show()"
   ]
  },
  {
   "cell_type": "code",
   "execution_count": 26,
   "metadata": {},
   "outputs": [],
   "source": [
    "with duckdb.connect('./src/db.duckdb') as con:\n",
    "    con.sql(\"drop type if exists quality_class\")\n",
    "    con.sql(\"create type quality_class as ENUM ('star', 'good', 'average', 'bad')\")\n",
    "    con.sql(\"drop type if exists films\")\n",
    "    con.sql(\"\"\"create type films as struct(\n",
    "                film text,\n",
    "                votes integer,\n",
    "                rating real,\n",
    "                filmid text)\"\"\")\n",
    "    con.sql(\"DROP TABLE if exists actors\")\n",
    "    con.sql(\"\"\"CREATE TABLE actors (\n",
    "            actor text,\n",
    "            films films[],\n",
    "            quality_class quality_class,\n",
    "            is_active bool,\n",
    "            year integer\n",
    "            )\"\"\")"
   ]
  },
  {
   "cell_type": "code",
   "execution_count": 27,
   "metadata": {},
   "outputs": [],
   "source": [
    "def load_table(year: int) -> None:\n",
    "    \"\"\"\n",
    "    Load the table incrementally\n",
    "\n",
    "    args:\n",
    "        year (int): The year to load the table\n",
    "    \"\"\"\n",
    "    with duckdb.connect('./src/db.duckdb') as con:\n",
    "        con.sql(f\"\"\"\n",
    "                insert into actors\n",
    "                with this_year_dupe as (\n",
    "            select\n",
    "                *,\n",
    "                avg(rating) over (partition by actorid) avg_rating,\n",
    "                array_agg(ROW(film, votes, rating, filmid)::films) over (partition by actorid) as  films,\n",
    "                --struct_pack(ROW(film, votes, rating, filmid)::films) over (partition by actorid) as  films,\n",
    "                row_number() over (partition by actorid) rn,\n",
    "                case when actorid is not null then 1 else 0 end is_active\n",
    "            from actor_films\n",
    "            where\n",
    "                year = {year}),\n",
    "        last_year as (\n",
    "                select\n",
    "                    *\n",
    "            from actors\n",
    "                where\n",
    "                    year = {year - 1}\n",
    "                ),\n",
    "        this_year as (\n",
    "                select\n",
    "                    *,\n",
    "                case\n",
    "                    when ty.avg_rating > 8 then 'star'\n",
    "                when ty.avg_rating > 7 then 'good'\n",
    "                when ty.avg_rating > 6 then 'average'\n",
    "                else 'bad'\n",
    "            end::quality_class as quality_class,\n",
    "            from this_year_dupe as ty\n",
    "                where rn = 1\n",
    "                )\n",
    "\n",
    "        select\n",
    "                coalesce(ty.actor, ly.actor) as actor,\n",
    "                case\n",
    "                    when ty.films is null then ly.films\n",
    "                    when ly.films is not null then \n",
    "                     ly.films || ty.films\n",
    "                    else ty.films\n",
    "                end as films,\n",
    "                coalesce(ty.quality_class, ly.quality_class) as quality_class,\n",
    "                coalesce(ty.is_active, ly.is_active) as is_active,\n",
    "                coalesce(ty.year, ly.year + 1) as year\n",
    "        from this_year ty\n",
    "                full outer join last_year ly\n",
    "                on ty.actor = ly.actor\n",
    "\n",
    "    \"\"\")\n",
    "        \n",
    "for i in range(1970, 2022):\n",
    "    load_table(i)"
   ]
  },
  {
   "cell_type": "code",
   "execution_count": 8,
   "metadata": {},
   "outputs": [
    {
     "name": "stdout",
     "output_type": "stream",
     "text": [
      "┌─────────────┬─────────────┐\n",
      "│ min(\"year\") │ max(\"year\") │\n",
      "│    int32    │    int32    │\n",
      "├─────────────┼─────────────┤\n",
      "│        1970 │        2021 │\n",
      "└─────────────┴─────────────┘\n",
      "\n"
     ]
    }
   ],
   "source": [
    "with duckdb.connect('./src/db.duckdb') as con:\n",
    "    con.sql(\"\"\"\n",
    "            select\n",
    "                min(year),\n",
    "            max(year)\n",
    "        from actor_films\n",
    "\"\"\").show()"
   ]
  },
  {
   "cell_type": "code",
   "execution_count": 18,
   "metadata": {},
   "outputs": [
    {
     "name": "stdout",
     "output_type": "stream",
     "text": [
      "┌─────────────────────┬───────────┬─────────────────────────────┬───────┬───────┬────────┬───────────┐\n",
      "│        actor        │  actorid  │            film             │ year  │ votes │ rating │  filmid   │\n",
      "│       varchar       │  varchar  │           varchar           │ int32 │ int32 │ float  │  varchar  │\n",
      "├─────────────────────┼───────────┼─────────────────────────────┼───────┼───────┼────────┼───────────┤\n",
      "│ Brigitte Bardot     │ nm0000003 │ The Bear and the Doll       │  1970 │   431 │    6.4 │ tt0064779 │\n",
      "│ Brigitte Bardot     │ nm0000003 │ Les novices                 │  1970 │   219 │    5.1 │ tt0066164 │\n",
      "│ Ingrid Bergman      │ nm0000006 │ A Walk in the Spring Rain   │  1970 │   696 │    6.2 │ tt0066542 │\n",
      "│ Bette Davis         │ nm0000012 │ Connecting Rooms            │  1970 │   585 │    6.9 │ tt0066943 │\n",
      "│ Olivia de Havilland │ nm0000014 │ The Adventurers             │  1970 │   656 │    5.5 │ tt0065374 │\n",
      "│ Kirk Douglas        │ nm0000018 │ There Was a Crooked Man...  │  1970 │  4138 │    7.0 │ tt0066448 │\n",
      "│ Henry Fonda         │ nm0000020 │ There Was a Crooked Man...  │  1970 │  4138 │    7.0 │ tt0066448 │\n",
      "│ Henry Fonda         │ nm0000020 │ The Cheyenne Social Club    │  1970 │  4085 │    6.9 │ tt0065542 │\n",
      "│ Henry Fonda         │ nm0000020 │ Too Late the Hero           │  1970 │  3302 │    6.7 │ tt0066471 │\n",
      "│ John Gielgud        │ nm0000024 │ Julius Caesar               │  1970 │  1552 │    6.1 │ tt0065922 │\n",
      "│      ·              │     ·     │   ·                         │    ·  │    ·  │     ·  │     ·     │\n",
      "│      ·              │     ·     │   ·                         │    ·  │    ·  │     ·  │     ·     │\n",
      "│      ·              │     ·     │   ·                         │    ·  │    ·  │     ·  │     ·     │\n",
      "│ Keenan Wynn         │ nm0943978 │ Loving                      │  1970 │   567 │    6.1 │ tt0066017 │\n",
      "│ Keenan Wynn         │ nm0943978 │ The Animals                 │  1970 │   290 │    3.7 │ tt0065407 │\n",
      "│ Dana Wynter         │ nm0944073 │ Airport                     │  1970 │ 17589 │    6.6 │ tt0065377 │\n",
      "│ Francine York       │ nm0948696 │ Cannon for Cordoba          │  1970 │   530 │    5.7 │ tt0065520 │\n",
      "│ Susannah York       │ nm0948772 │ Brotherly Love              │  1970 │   312 │    5.7 │ tt0065581 │\n",
      "│ Burt Young          │ nm0949350 │ Carnival of Blood           │  1970 │   418 │    3.9 │ tt0066893 │\n",
      "│ Gig Young           │ nm0949574 │ Lovers and Other Strangers  │  1970 │  1090 │    6.6 │ tt0066016 │\n",
      "│ Harris Yulin        │ nm0950867 │ End of the Road             │  1970 │   274 │    6.6 │ tt0065692 │\n",
      "│ Harris Yulin        │ nm0950867 │ Maidstone                   │  1970 │   213 │    5.1 │ tt0064625 │\n",
      "│ Sue Silla           │ nm3024314 │ Wilbur and the Baby Factory │  1970 │   103 │    5.0 │ tt0065213 │\n",
      "├─────────────────────┴───────────┴─────────────────────────────┴───────┴───────┴────────┴───────────┤\n",
      "│ 845 rows (20 shown)                                                                      7 columns │\n",
      "└────────────────────────────────────────────────────────────────────────────────────────────────────┘\n",
      "\n"
     ]
    }
   ],
   "source": [
    "with duckdb.connect('./src/db.duckdb') as con:\n",
    "    con.sql(\"\"\"\n",
    "            select\n",
    "                *\n",
    "            from actor_films\n",
    "            where\n",
    "                year = 1970\n",
    "            \"\"\").show()"
   ]
  },
  {
   "cell_type": "code",
   "execution_count": 28,
   "metadata": {},
   "outputs": [
    {
     "name": "stdout",
     "output_type": "stream",
     "text": [
      "┌───────────────────────┬───────────────────────────────────────────────────────────────────────────────────────────────────────────────────────────────────────────────────────────────────────────────────────────────────────────────────────────────────────────────────────────────────────────────────────────────────────────────────────────────────────────────────────────────────────────────────────────────────────────────────────┬────────────────────────────────────────┬───────────┬───────┐\n",
      "│         actor         │                                                                                                                                                                                                         films                                                                                                                                                                                                         │             quality_class              │ is_active │ year  │\n",
      "│        varchar        │                                                                                                                                                                          struct(film varchar, votes integer, rating float, filmid varchar)[]                                                                                                                                                                          │ enum('star', 'good', 'average', 'bad') │  boolean  │ int32 │\n",
      "├───────────────────────┼───────────────────────────────────────────────────────────────────────────────────────────────────────────────────────────────────────────────────────────────────────────────────────────────────────────────────────────────────────────────────────────────────────────────────────────────────────────────────────────────────────────────────────────────────────────────────────────────────────────────────────┼────────────────────────────────────────┼───────────┼───────┤\n",
      "│ John Wayne            │ [{'film': Rio Lobo, 'votes': 11005, 'rating': 6.8, 'filmid': tt0066301}, {'film': Chisum, 'votes': 9043, 'rating': 6.9, 'filmid': tt0065547}]                                                                                                                                                                                                                                                                         │ average                                │ true      │  1970 │\n",
      "│ Sean Connery          │ [{'film': The Molly Maguires, 'votes': 3468, 'rating': 6.9, 'filmid': tt0066090}]                                                                                                                                                                                                                                                                                                                                     │ average                                │ true      │  1970 │\n",
      "│ Mel Blanc             │ [{'film': The Phantom Tollbooth, 'votes': 2987, 'rating': 6.9, 'filmid': tt0064806}]                                                                                                                                                                                                                                                                                                                                  │ average                                │ true      │  1970 │\n",
      "│ Brian Blessed         │ [{'film': Brotherly Love, 'votes': 312, 'rating': 5.7, 'filmid': tt0065581}]                                                                                                                                                                                                                                                                                                                                          │ bad                                    │ true      │  1970 │\n",
      "│ Paul Sorvino          │ [{'film': Where's Poppa?, 'votes': 1770, 'rating': 6.6, 'filmid': tt0066563}]                                                                                                                                                                                                                                                                                                                                         │ average                                │ true      │  1970 │\n",
      "│ Stephanie Beacham     │ [{'film': The Devil's Widow, 'votes': 435, 'rating': 6.2, 'filmid': tt0067822}, {'film': The Games, 'votes': 417, 'rating': 6.2, 'filmid': tt0065757}]                                                                                                                                                                                                                                                                │ average                                │ true      │  1970 │\n",
      "│ Noah Beery Jr.        │ [{'film': Little Fauss and Big Halsy, 'votes': 1097, 'rating': 6.0, 'filmid': tt0065989}, {'film': Cockeyed Cowboys of Calico County, 'votes': 416, 'rating': 6.3, 'filmid': tt0065560}]                                                                                                                                                                                                                              │ average                                │ true      │  1970 │\n",
      "│ Genevieve Bujold      │ [{'film': Act of the Heart, 'votes': 191, 'rating': 6.1, 'filmid': tt0065370}]                                                                                                                                                                                                                                                                                                                                        │ average                                │ true      │  1970 │\n",
      "│ Nick Cassavetes       │ [{'film': Husbands, 'votes': 5698, 'rating': 7.3, 'filmid': tt0065867}]                                                                                                                                                                                                                                                                                                                                               │ good                                   │ true      │  1970 │\n",
      "│ Scatman Crothers      │ [{'film': The Great White Hope, 'votes': 2368, 'rating': 6.9, 'filmid': tt0065797}, {'film': The Aristocats, 'votes': 95053, 'rating': 7.1, 'filmid': tt0065421}, {'film': Bloody Mama, 'votes': 3086, 'rating': 5.7, 'filmid': tt0065481}]                                                                                                                                                                           │ average                                │ true      │  1970 │\n",
      "│       ·               │                                                                                                                      ·                                                                                                                                                                                                                                                                                                │    ·                                   │  ·        │    ·  │\n",
      "│       ·               │                                                                                                                      ·                                                                                                                                                                                                                                                                                                │    ·                                   │  ·        │    ·  │\n",
      "│       ·               │                                                                                                                      ·                                                                                                                                                                                                                                                                                                │    ·                                   │  ·        │    ·  │\n",
      "│ Jeannie Berlin        │ [{'film': Move, 'votes': 138, 'rating': 5.1, 'filmid': tt0066102}, {'film': On a Clear Day You Can See Forever, 'votes': 3588, 'rating': 6.4, 'filmid': tt0066181}, {'film': The Strawberry Statement, 'votes': 1489, 'rating': 6.8, 'filmid': tt0066415}, {'film': Getting Straight, 'votes': 1195, 'rating': 6.4, 'filmid': tt0065775}, {'film': The Baby Maker, 'votes': 252, 'rating': 6.0, 'filmid': tt0065441}] │ average                                │ true      │  1970 │\n",
      "│ Richard Boone         │ [{'film': His Name Was Madron, 'votes': 259, 'rating': 5.2, 'filmid': tt0066034}, {'film': The Kremlin Letter, 'votes': 1845, 'rating': 6.3, 'filmid': tt0065950}]                                                                                                                                                                                                                                                    │ bad                                    │ true      │  1970 │\n",
      "│ Richard S. Castellano │ [{'film': Lovers and Other Strangers, 'votes': 1090, 'rating': 6.6, 'filmid': tt0066016}]                                                                                                                                                                                                                                                                                                                             │ average                                │ true      │  1970 │\n",
      "│ Ted Knight            │ [{'film': MASH, 'votes': 67892, 'rating': 7.4, 'filmid': tt0066026}]                                                                                                                                                                                                                                                                                                                                                  │ good                                   │ true      │  1970 │\n",
      "│ Joanna Lumley         │ [{'film': The Devil's Widow, 'votes': 435, 'rating': 6.2, 'filmid': tt0067822}]                                                                                                                                                                                                                                                                                                                                       │ average                                │ true      │  1970 │\n",
      "│ Butch Patrick         │ [{'film': The Phantom Tollbooth, 'votes': 2987, 'rating': 6.9, 'filmid': tt0064806}]                                                                                                                                                                                                                                                                                                                                  │ average                                │ true      │  1970 │\n",
      "│ Michael J. Pollard    │ [{'film': Little Fauss and Big Halsy, 'votes': 1097, 'rating': 6.0, 'filmid': tt0065989}]                                                                                                                                                                                                                                                                                                                             │ bad                                    │ true      │  1970 │\n",
      "│ Don Stroud            │ [{'film': Angel Unchained, 'votes': 340, 'rating': 5.1, 'filmid': tt0065401}, {'film': ...tick... tick... tick..., 'votes': 952, 'rating': 6.7, 'filmid': tt0065360}, {'film': Bloody Mama, 'votes': 3086, 'rating': 5.7, 'filmid': tt0065481}]                                                                                                                                                                       │ bad                                    │ true      │  1970 │\n",
      "│ John Thaw             │ [{'film': The Last Grenade, 'votes': 162, 'rating': 5.4, 'filmid': tt0065967}]                                                                                                                                                                                                                                                                                                                                        │ bad                                    │ true      │  1970 │\n",
      "│ Keenan Wynn           │ [{'film': The Animals, 'votes': 290, 'rating': 3.7, 'filmid': tt0065407}, {'film': Loving, 'votes': 567, 'rating': 6.1, 'filmid': tt0066017}]                                                                                                                                                                                                                                                                         │ bad                                    │ true      │  1970 │\n",
      "├───────────────────────┴───────────────────────────────────────────────────────────────────────────────────────────────────────────────────────────────────────────────────────────────────────────────────────────────────────────────────────────────────────────────────────────────────────────────────────────────────────────────────────────────────────────────────────────────────────────────────────────────────────────────────────┴────────────────────────────────────────┴───────────┴───────┤\n",
      "│ 556 rows (20 shown)                                                                                                                                                                                                                                                                                                                                                                                                                                                                              5 columns │\n",
      "└────────────────────────────────────────────────────────────────────────────────────────────────────────────────────────────────────────────────────────────────────────────────────────────────────────────────────────────────────────────────────────────────────────────────────────────────────────────────────────────────────────────────────────────────────────────────────────────────────────────────────────────────────────────────────────────────────────────────────────────────────────────┘\n",
      "\n"
     ]
    }
   ],
   "source": [
    "with duckdb.connect('./src/db.duckdb') as con:\n",
    "    con.sql(\"\"\"\n",
    "            select\n",
    "                *\n",
    "            from actors\n",
    "            where\n",
    "                year = 1970\n",
    "            \"\"\").show()"
   ]
  },
  {
   "cell_type": "code",
   "execution_count": 29,
   "metadata": {},
   "outputs": [
    {
     "name": "stdout",
     "output_type": "stream",
     "text": [
      "┌───────────────┬────────────────────────────────────────────────────────────────────────────────────────────────────────────────────────────────────────────────────────────────────────────────────────────────────────────────────────────────────────────────────────────────────────────────────────────────────────────────────────────────────────────────────────────────────────────────────────────────────────────────────────────────────────────────────────────────────────────────────────────────────────────────────────────────────────────────────────────────────────────────────────────────────────────────────────────────────────────────────────────────────────────────────────────────────────────────────────────────────────────────────────────────────────────────────────────────────────────────────────────────────────────────────────────────────────────────────────────────────────────────────────────────────────────────────────────────────────────────────────────────────────────────────────────────────────────────────────────────────────────────────────────────────────────────────────────────────────────────────────────────────────────────────────────────────────────────────────────────────────────────────────────────────────────────────────────────────────────────────────────────────────────────────────────────────────────────────────────────────────────────────────────────────────────────────────────────────────────────────────────────────────────────────────────────────────────────────────────────────────────────────────────────────────────────────────────────────────────────────────────────────────────────────────────────────────────────────────────────────────────────────────────────────────────────────────────────────────────────────────────────────────────────────────────────────────────────────────────────────────────────────────────────────────────────────────────────────────────────────┬────────────────────────────────────────┬───────────┬───────┐\n",
      "│     actor     │                                                                                                                                                                                                                                                                                                                                                                                                                                                                                                                                                                                                                                                                                                                                                                                                                                                                                                                                                                                       films                                                                                                                                                                                                                                                                                                                                                                                                                                                                                                                                                                                                                                                                                                                                                                                                                                                                                                                                                                                        │             quality_class              │ is_active │ year  │\n",
      "│    varchar    │                                                                                                                                                                                                                                                                                                                                                                                                                                                                                                                                                                                                                                                                                                                                                                                                                                                                                                                                                        struct(film varchar, votes integer, rating float, filmid varchar)[]                                                                                                                                                                                                                                                                                                                                                                                                                                                                                                                                                                                                                                                                                                                                                                                                                                                                                                                                                         │ enum('star', 'good', 'average', 'bad') │  boolean  │ int32 │\n",
      "├───────────────┼────────────────────────────────────────────────────────────────────────────────────────────────────────────────────────────────────────────────────────────────────────────────────────────────────────────────────────────────────────────────────────────────────────────────────────────────────────────────────────────────────────────────────────────────────────────────────────────────────────────────────────────────────────────────────────────────────────────────────────────────────────────────────────────────────────────────────────────────────────────────────────────────────────────────────────────────────────────────────────────────────────────────────────────────────────────────────────────────────────────────────────────────────────────────────────────────────────────────────────────────────────────────────────────────────────────────────────────────────────────────────────────────────────────────────────────────────────────────────────────────────────────────────────────────────────────────────────────────────────────────────────────────────────────────────────────────────────────────────────────────────────────────────────────────────────────────────────────────────────────────────────────────────────────────────────────────────────────────────────────────────────────────────────────────────────────────────────────────────────────────────────────────────────────────────────────────────────────────────────────────────────────────────────────────────────────────────────────────────────────────────────────────────────────────────────────────────────────────────────────────────────────────────────────────────────────────────────────────────────────────────────────────────────────────────────────────────────────────────────────────────────────────────────────────────────────────────────────────────────────────────────────────────────────────────────────────────────────────────┼────────────────────────────────────────┼───────────┼───────┤\n",
      "│ Julie Andrews │ [{'film': Darling Lili, 'votes': 1990, 'rating': 6.1, 'filmid': tt0065611}]                                                                                                                                                                                                                                                                                                                                                                                                                                                                                                                                                                                                                                                                                                                                                                                                                                                                                                                                                                                                                                                                                                                                                                                                                                                                                                                                                                                                                                                                                                                                                                                                                                                                                                                                                                                                                                                                                                        │ average                                │ true      │  1970 │\n",
      "│ Julie Andrews │ [{'film': Darling Lili, 'votes': 1990, 'rating': 6.1, 'filmid': tt0065611}]                                                                                                                                                                                                                                                                                                                                                                                                                                                                                                                                                                                                                                                                                                                                                                                                                                                                                                                                                                                                                                                                                                                                                                                                                                                                                                                                                                                                                                                                                                                                                                                                                                                                                                                                                                                                                                                                                                        │ average                                │ true      │  1971 │\n",
      "│ Julie Andrews │ [{'film': Darling Lili, 'votes': 1990, 'rating': 6.1, 'filmid': tt0065611}]                                                                                                                                                                                                                                                                                                                                                                                                                                                                                                                                                                                                                                                                                                                                                                                                                                                                                                                                                                                                                                                                                                                                                                                                                                                                                                                                                                                                                                                                                                                                                                                                                                                                                                                                                                                                                                                                                                        │ average                                │ true      │  1972 │\n",
      "│ Julie Andrews │ [{'film': Darling Lili, 'votes': 1990, 'rating': 6.1, 'filmid': tt0065611}]                                                                                                                                                                                                                                                                                                                                                                                                                                                                                                                                                                                                                                                                                                                                                                                                                                                                                                                                                                                                                                                                                                                                                                                                                                                                                                                                                                                                                                                                                                                                                                                                                                                                                                                                                                                                                                                                                                        │ average                                │ true      │  1973 │\n",
      "│ Julie Andrews │ [{'film': Darling Lili, 'votes': 1990, 'rating': 6.1, 'filmid': tt0065611}, {'film': The Tamarind Seed, 'votes': 1891, 'rating': 6.4, 'filmid': tt0072253}]                                                                                                                                                                                                                                                                                                                                                                                                                                                                                                                                                                                                                                                                                                                                                                                                                                                                                                                                                                                                                                                                                                                                                                                                                                                                                                                                                                                                                                                                                                                                                                                                                                                                                                                                                                                                                        │ average                                │ true      │  1974 │\n",
      "│ Julie Andrews │ [{'film': Darling Lili, 'votes': 1990, 'rating': 6.1, 'filmid': tt0065611}, {'film': The Tamarind Seed, 'votes': 1891, 'rating': 6.4, 'filmid': tt0072253}]                                                                                                                                                                                                                                                                                                                                                                                                                                                                                                                                                                                                                                                                                                                                                                                                                                                                                                                                                                                                                                                                                                                                                                                                                                                                                                                                                                                                                                                                                                                                                                                                                                                                                                                                                                                                                        │ average                                │ true      │  1975 │\n",
      "│ Julie Andrews │ [{'film': Darling Lili, 'votes': 1990, 'rating': 6.1, 'filmid': tt0065611}, {'film': The Tamarind Seed, 'votes': 1891, 'rating': 6.4, 'filmid': tt0072253}, {'film': The Pink Panther Strikes Again, 'votes': 28129, 'rating': 7.2, 'filmid': tt0075066}]                                                                                                                                                                                                                                                                                                                                                                                                                                                                                                                                                                                                                                                                                                                                                                                                                                                                                                                                                                                                                                                                                                                                                                                                                                                                                                                                                                                                                                                                                                                                                                                                                                                                                                                          │ good                                   │ true      │  1976 │\n",
      "│ Julie Andrews │ [{'film': Darling Lili, 'votes': 1990, 'rating': 6.1, 'filmid': tt0065611}, {'film': The Tamarind Seed, 'votes': 1891, 'rating': 6.4, 'filmid': tt0072253}, {'film': The Pink Panther Strikes Again, 'votes': 28129, 'rating': 7.2, 'filmid': tt0075066}]                                                                                                                                                                                                                                                                                                                                                                                                                                                                                                                                                                                                                                                                                                                                                                                                                                                                                                                                                                                                                                                                                                                                                                                                                                                                                                                                                                                                                                                                                                                                                                                                                                                                                                                          │ good                                   │ true      │  1977 │\n",
      "│ Julie Andrews │ [{'film': Darling Lili, 'votes': 1990, 'rating': 6.1, 'filmid': tt0065611}, {'film': The Tamarind Seed, 'votes': 1891, 'rating': 6.4, 'filmid': tt0072253}, {'film': The Pink Panther Strikes Again, 'votes': 28129, 'rating': 7.2, 'filmid': tt0075066}]                                                                                                                                                                                                                                                                                                                                                                                                                                                                                                                                                                                                                                                                                                                                                                                                                                                                                                                                                                                                                                                                                                                                                                                                                                                                                                                                                                                                                                                                                                                                                                                                                                                                                                                          │ good                                   │ true      │  1978 │\n",
      "│ Julie Andrews │ [{'film': Darling Lili, 'votes': 1990, 'rating': 6.1, 'filmid': tt0065611}, {'film': The Tamarind Seed, 'votes': 1891, 'rating': 6.4, 'filmid': tt0072253}, {'film': The Pink Panther Strikes Again, 'votes': 28129, 'rating': 7.2, 'filmid': tt0075066}, {'film': 10, 'votes': 15327, 'rating': 6.1, 'filmid': tt0078721}]                                                                                                                                                                                                                                                                                                                                                                                                                                                                                                                                                                                                                                                                                                                                                                                                                                                                                                                                                                                                                                                                                                                                                                                                                                                                                                                                                                                                                                                                                                                                                                                                                                                        │ average                                │ true      │  1979 │\n",
      "│       ·       │                                                                                                                                                              ·                                                                                                                                                                                                                                                                                                                                                                                                                                                                                                                                                                                                                                                                                                                                                                                                                                                                                                                                                                                                                                                                                                                                                                                                                                                                                                                                                                                                                                                                                                                                                                                                                                                                                                                                                                                                                     │    ·                                   │  ·        │    ·  │\n",
      "│       ·       │                                                                                                                                                              ·                                                                                                                                                                                                                                                                                                                                                                                                                                                                                                                                                                                                                                                                                                                                                                                                                                                                                                                                                                                                                                                                                                                                                                                                                                                                                                                                                                                                                                                                                                                                                                                                                                                                                                                                                                                                                     │    ·                                   │  ·        │    ·  │\n",
      "│       ·       │                                                                                                                                                              ·                                                                                                                                                                                                                                                                                                                                                                                                                                                                                                                                                                                                                                                                                                                                                                                                                                                                                                                                                                                                                                                                                                                                                                                                                                                                                                                                                                                                                                                                                                                                                                                                                                                                                                                                                                                                                     │    ·                                   │  ·        │    ·  │\n",
      "│ Julie Andrews │ [{'film': Darling Lili, 'votes': 1990, 'rating': 6.1, 'filmid': tt0065611}, {'film': The Tamarind Seed, 'votes': 1891, 'rating': 6.4, 'filmid': tt0072253}, {'film': The Pink Panther Strikes Again, 'votes': 28129, 'rating': 7.2, 'filmid': tt0075066}, {'film': 10, 'votes': 15327, 'rating': 6.1, 'filmid': tt0078721}, {'film': Little Miss Marker, 'votes': 1345, 'rating': 6.4, 'filmid': tt0081063}, {'film': S.O.B., 'votes': 5469, 'rating': 6.4, 'filmid': tt0083015}, {'film': Victor Victoria, 'votes': 19571, 'rating': 7.6, 'filmid': tt0084865}, {'film': Trail of the Pink Panther, 'votes': 9692, 'rating': 5.0, 'filmid': tt0084814}, {'film': The Man Who Loved Women, 'votes': 2159, 'rating': 5.3, 'filmid': tt0085891}, {'film': Duet for One, 'votes': 830, 'rating': 6.9, 'filmid': tt0092934}, {'film': That's Life!, 'votes': 1362, 'rating': 6.0, 'filmid': tt0092079}, {'film': A Fine Romance, 'votes': 268, 'rating': 5.2, 'filmid': tt0103055}, {'film': Relative Values, 'votes': 2229, 'rating': 6.5, 'filmid': tt0210943}, {'film': The Princess Diaries, 'votes': 130027, 'rating': 6.4, 'filmid': tt0247638}, {'film': Unconditional Love, 'votes': 3539, 'rating': 6.8, 'filmid': tt0219374}, {'film': Shrek 2, 'votes': 423466, 'rating': 7.2, 'filmid': tt0298148}, {'film': The Princess Diaries 2: Royal Engagement, 'votes': 74955, 'rating': 5.8, 'filmid': tt0368933}, {'film': Shrek the Third, 'votes': 283180, 'rating': 6.1, 'filmid': tt0413267}, {'film': Enchanted, 'votes': 178114, 'rating': 7.0, 'filmid': tt0461770}, {'film': Tooth Fairy, 'votes': 42763, 'rating': 5.0, 'filmid': tt0808510}, {'film': Shrek Forever After, 'votes': 186812, 'rating': 6.3, 'filmid': tt0892791}, {'film': Despicable Me, 'votes': 504665, 'rating': 7.6, 'filmid': tt1323594}]                                                                                                                                                         │ average                                │ true      │  2012 │\n",
      "│ Julie Andrews │ [{'film': Darling Lili, 'votes': 1990, 'rating': 6.1, 'filmid': tt0065611}, {'film': The Tamarind Seed, 'votes': 1891, 'rating': 6.4, 'filmid': tt0072253}, {'film': The Pink Panther Strikes Again, 'votes': 28129, 'rating': 7.2, 'filmid': tt0075066}, {'film': 10, 'votes': 15327, 'rating': 6.1, 'filmid': tt0078721}, {'film': Little Miss Marker, 'votes': 1345, 'rating': 6.4, 'filmid': tt0081063}, {'film': S.O.B., 'votes': 5469, 'rating': 6.4, 'filmid': tt0083015}, {'film': Victor Victoria, 'votes': 19571, 'rating': 7.6, 'filmid': tt0084865}, {'film': Trail of the Pink Panther, 'votes': 9692, 'rating': 5.0, 'filmid': tt0084814}, {'film': The Man Who Loved Women, 'votes': 2159, 'rating': 5.3, 'filmid': tt0085891}, {'film': Duet for One, 'votes': 830, 'rating': 6.9, 'filmid': tt0092934}, {'film': That's Life!, 'votes': 1362, 'rating': 6.0, 'filmid': tt0092079}, {'film': A Fine Romance, 'votes': 268, 'rating': 5.2, 'filmid': tt0103055}, {'film': Relative Values, 'votes': 2229, 'rating': 6.5, 'filmid': tt0210943}, {'film': The Princess Diaries, 'votes': 130027, 'rating': 6.4, 'filmid': tt0247638}, {'film': Unconditional Love, 'votes': 3539, 'rating': 6.8, 'filmid': tt0219374}, {'film': Shrek 2, 'votes': 423466, 'rating': 7.2, 'filmid': tt0298148}, {'film': The Princess Diaries 2: Royal Engagement, 'votes': 74955, 'rating': 5.8, 'filmid': tt0368933}, {'film': Shrek the Third, 'votes': 283180, 'rating': 6.1, 'filmid': tt0413267}, {'film': Enchanted, 'votes': 178114, 'rating': 7.0, 'filmid': tt0461770}, {'film': Tooth Fairy, 'votes': 42763, 'rating': 5.0, 'filmid': tt0808510}, {'film': Shrek Forever After, 'votes': 186812, 'rating': 6.3, 'filmid': tt0892791}, {'film': Despicable Me, 'votes': 504665, 'rating': 7.6, 'filmid': tt1323594}]                                                                                                                                                         │ average                                │ true      │  2013 │\n",
      "│ Julie Andrews │ [{'film': Darling Lili, 'votes': 1990, 'rating': 6.1, 'filmid': tt0065611}, {'film': The Tamarind Seed, 'votes': 1891, 'rating': 6.4, 'filmid': tt0072253}, {'film': The Pink Panther Strikes Again, 'votes': 28129, 'rating': 7.2, 'filmid': tt0075066}, {'film': 10, 'votes': 15327, 'rating': 6.1, 'filmid': tt0078721}, {'film': Little Miss Marker, 'votes': 1345, 'rating': 6.4, 'filmid': tt0081063}, {'film': S.O.B., 'votes': 5469, 'rating': 6.4, 'filmid': tt0083015}, {'film': Victor Victoria, 'votes': 19571, 'rating': 7.6, 'filmid': tt0084865}, {'film': Trail of the Pink Panther, 'votes': 9692, 'rating': 5.0, 'filmid': tt0084814}, {'film': The Man Who Loved Women, 'votes': 2159, 'rating': 5.3, 'filmid': tt0085891}, {'film': Duet for One, 'votes': 830, 'rating': 6.9, 'filmid': tt0092934}, {'film': That's Life!, 'votes': 1362, 'rating': 6.0, 'filmid': tt0092079}, {'film': A Fine Romance, 'votes': 268, 'rating': 5.2, 'filmid': tt0103055}, {'film': Relative Values, 'votes': 2229, 'rating': 6.5, 'filmid': tt0210943}, {'film': The Princess Diaries, 'votes': 130027, 'rating': 6.4, 'filmid': tt0247638}, {'film': Unconditional Love, 'votes': 3539, 'rating': 6.8, 'filmid': tt0219374}, {'film': Shrek 2, 'votes': 423466, 'rating': 7.2, 'filmid': tt0298148}, {'film': The Princess Diaries 2: Royal Engagement, 'votes': 74955, 'rating': 5.8, 'filmid': tt0368933}, {'film': Shrek the Third, 'votes': 283180, 'rating': 6.1, 'filmid': tt0413267}, {'film': Enchanted, 'votes': 178114, 'rating': 7.0, 'filmid': tt0461770}, {'film': Tooth Fairy, 'votes': 42763, 'rating': 5.0, 'filmid': tt0808510}, {'film': Shrek Forever After, 'votes': 186812, 'rating': 6.3, 'filmid': tt0892791}, {'film': Despicable Me, 'votes': 504665, 'rating': 7.6, 'filmid': tt1323594}]                                                                                                                                                         │ average                                │ true      │  2014 │\n",
      "│ Julie Andrews │ [{'film': Darling Lili, 'votes': 1990, 'rating': 6.1, 'filmid': tt0065611}, {'film': The Tamarind Seed, 'votes': 1891, 'rating': 6.4, 'filmid': tt0072253}, {'film': The Pink Panther Strikes Again, 'votes': 28129, 'rating': 7.2, 'filmid': tt0075066}, {'film': 10, 'votes': 15327, 'rating': 6.1, 'filmid': tt0078721}, {'film': Little Miss Marker, 'votes': 1345, 'rating': 6.4, 'filmid': tt0081063}, {'film': S.O.B., 'votes': 5469, 'rating': 6.4, 'filmid': tt0083015}, {'film': Victor Victoria, 'votes': 19571, 'rating': 7.6, 'filmid': tt0084865}, {'film': Trail of the Pink Panther, 'votes': 9692, 'rating': 5.0, 'filmid': tt0084814}, {'film': The Man Who Loved Women, 'votes': 2159, 'rating': 5.3, 'filmid': tt0085891}, {'film': Duet for One, 'votes': 830, 'rating': 6.9, 'filmid': tt0092934}, {'film': That's Life!, 'votes': 1362, 'rating': 6.0, 'filmid': tt0092079}, {'film': A Fine Romance, 'votes': 268, 'rating': 5.2, 'filmid': tt0103055}, {'film': Relative Values, 'votes': 2229, 'rating': 6.5, 'filmid': tt0210943}, {'film': The Princess Diaries, 'votes': 130027, 'rating': 6.4, 'filmid': tt0247638}, {'film': Unconditional Love, 'votes': 3539, 'rating': 6.8, 'filmid': tt0219374}, {'film': Shrek 2, 'votes': 423466, 'rating': 7.2, 'filmid': tt0298148}, {'film': The Princess Diaries 2: Royal Engagement, 'votes': 74955, 'rating': 5.8, 'filmid': tt0368933}, {'film': Shrek the Third, 'votes': 283180, 'rating': 6.1, 'filmid': tt0413267}, {'film': Enchanted, 'votes': 178114, 'rating': 7.0, 'filmid': tt0461770}, {'film': Tooth Fairy, 'votes': 42763, 'rating': 5.0, 'filmid': tt0808510}, {'film': Shrek Forever After, 'votes': 186812, 'rating': 6.3, 'filmid': tt0892791}, {'film': Despicable Me, 'votes': 504665, 'rating': 7.6, 'filmid': tt1323594}]                                                                                                                                                         │ average                                │ true      │  2015 │\n",
      "│ Julie Andrews │ [{'film': Darling Lili, 'votes': 1990, 'rating': 6.1, 'filmid': tt0065611}, {'film': The Tamarind Seed, 'votes': 1891, 'rating': 6.4, 'filmid': tt0072253}, {'film': The Pink Panther Strikes Again, 'votes': 28129, 'rating': 7.2, 'filmid': tt0075066}, {'film': 10, 'votes': 15327, 'rating': 6.1, 'filmid': tt0078721}, {'film': Little Miss Marker, 'votes': 1345, 'rating': 6.4, 'filmid': tt0081063}, {'film': S.O.B., 'votes': 5469, 'rating': 6.4, 'filmid': tt0083015}, {'film': Victor Victoria, 'votes': 19571, 'rating': 7.6, 'filmid': tt0084865}, {'film': Trail of the Pink Panther, 'votes': 9692, 'rating': 5.0, 'filmid': tt0084814}, {'film': The Man Who Loved Women, 'votes': 2159, 'rating': 5.3, 'filmid': tt0085891}, {'film': Duet for One, 'votes': 830, 'rating': 6.9, 'filmid': tt0092934}, {'film': That's Life!, 'votes': 1362, 'rating': 6.0, 'filmid': tt0092079}, {'film': A Fine Romance, 'votes': 268, 'rating': 5.2, 'filmid': tt0103055}, {'film': Relative Values, 'votes': 2229, 'rating': 6.5, 'filmid': tt0210943}, {'film': The Princess Diaries, 'votes': 130027, 'rating': 6.4, 'filmid': tt0247638}, {'film': Unconditional Love, 'votes': 3539, 'rating': 6.8, 'filmid': tt0219374}, {'film': Shrek 2, 'votes': 423466, 'rating': 7.2, 'filmid': tt0298148}, {'film': The Princess Diaries 2: Royal Engagement, 'votes': 74955, 'rating': 5.8, 'filmid': tt0368933}, {'film': Shrek the Third, 'votes': 283180, 'rating': 6.1, 'filmid': tt0413267}, {'film': Enchanted, 'votes': 178114, 'rating': 7.0, 'filmid': tt0461770}, {'film': Tooth Fairy, 'votes': 42763, 'rating': 5.0, 'filmid': tt0808510}, {'film': Shrek Forever After, 'votes': 186812, 'rating': 6.3, 'filmid': tt0892791}, {'film': Despicable Me, 'votes': 504665, 'rating': 7.6, 'filmid': tt1323594}]                                                                                                                                                         │ average                                │ true      │  2016 │\n",
      "│ Julie Andrews │ [{'film': Darling Lili, 'votes': 1990, 'rating': 6.1, 'filmid': tt0065611}, {'film': The Tamarind Seed, 'votes': 1891, 'rating': 6.4, 'filmid': tt0072253}, {'film': The Pink Panther Strikes Again, 'votes': 28129, 'rating': 7.2, 'filmid': tt0075066}, {'film': 10, 'votes': 15327, 'rating': 6.1, 'filmid': tt0078721}, {'film': Little Miss Marker, 'votes': 1345, 'rating': 6.4, 'filmid': tt0081063}, {'film': S.O.B., 'votes': 5469, 'rating': 6.4, 'filmid': tt0083015}, {'film': Victor Victoria, 'votes': 19571, 'rating': 7.6, 'filmid': tt0084865}, {'film': Trail of the Pink Panther, 'votes': 9692, 'rating': 5.0, 'filmid': tt0084814}, {'film': The Man Who Loved Women, 'votes': 2159, 'rating': 5.3, 'filmid': tt0085891}, {'film': Duet for One, 'votes': 830, 'rating': 6.9, 'filmid': tt0092934}, {'film': That's Life!, 'votes': 1362, 'rating': 6.0, 'filmid': tt0092079}, {'film': A Fine Romance, 'votes': 268, 'rating': 5.2, 'filmid': tt0103055}, {'film': Relative Values, 'votes': 2229, 'rating': 6.5, 'filmid': tt0210943}, {'film': The Princess Diaries, 'votes': 130027, 'rating': 6.4, 'filmid': tt0247638}, {'film': Unconditional Love, 'votes': 3539, 'rating': 6.8, 'filmid': tt0219374}, {'film': Shrek 2, 'votes': 423466, 'rating': 7.2, 'filmid': tt0298148}, {'film': The Princess Diaries 2: Royal Engagement, 'votes': 74955, 'rating': 5.8, 'filmid': tt0368933}, {'film': Shrek the Third, 'votes': 283180, 'rating': 6.1, 'filmid': tt0413267}, {'film': Enchanted, 'votes': 178114, 'rating': 7.0, 'filmid': tt0461770}, {'film': Tooth Fairy, 'votes': 42763, 'rating': 5.0, 'filmid': tt0808510}, {'film': Shrek Forever After, 'votes': 186812, 'rating': 6.3, 'filmid': tt0892791}, {'film': Despicable Me, 'votes': 504665, 'rating': 7.6, 'filmid': tt1323594}, {'film': Despicable Me 3, 'votes': 115878, 'rating': 6.3, 'filmid': tt3469046}]                                                                         │ average                                │ true      │  2017 │\n",
      "│ Julie Andrews │ [{'film': Darling Lili, 'votes': 1990, 'rating': 6.1, 'filmid': tt0065611}, {'film': The Tamarind Seed, 'votes': 1891, 'rating': 6.4, 'filmid': tt0072253}, {'film': The Pink Panther Strikes Again, 'votes': 28129, 'rating': 7.2, 'filmid': tt0075066}, {'film': 10, 'votes': 15327, 'rating': 6.1, 'filmid': tt0078721}, {'film': Little Miss Marker, 'votes': 1345, 'rating': 6.4, 'filmid': tt0081063}, {'film': S.O.B., 'votes': 5469, 'rating': 6.4, 'filmid': tt0083015}, {'film': Victor Victoria, 'votes': 19571, 'rating': 7.6, 'filmid': tt0084865}, {'film': Trail of the Pink Panther, 'votes': 9692, 'rating': 5.0, 'filmid': tt0084814}, {'film': The Man Who Loved Women, 'votes': 2159, 'rating': 5.3, 'filmid': tt0085891}, {'film': Duet for One, 'votes': 830, 'rating': 6.9, 'filmid': tt0092934}, {'film': That's Life!, 'votes': 1362, 'rating': 6.0, 'filmid': tt0092079}, {'film': A Fine Romance, 'votes': 268, 'rating': 5.2, 'filmid': tt0103055}, {'film': Relative Values, 'votes': 2229, 'rating': 6.5, 'filmid': tt0210943}, {'film': The Princess Diaries, 'votes': 130027, 'rating': 6.4, 'filmid': tt0247638}, {'film': Unconditional Love, 'votes': 3539, 'rating': 6.8, 'filmid': tt0219374}, {'film': Shrek 2, 'votes': 423466, 'rating': 7.2, 'filmid': tt0298148}, {'film': The Princess Diaries 2: Royal Engagement, 'votes': 74955, 'rating': 5.8, 'filmid': tt0368933}, {'film': Shrek the Third, 'votes': 283180, 'rating': 6.1, 'filmid': tt0413267}, {'film': Enchanted, 'votes': 178114, 'rating': 7.0, 'filmid': tt0461770}, {'film': Tooth Fairy, 'votes': 42763, 'rating': 5.0, 'filmid': tt0808510}, {'film': Shrek Forever After, 'votes': 186812, 'rating': 6.3, 'filmid': tt0892791}, {'film': Despicable Me, 'votes': 504665, 'rating': 7.6, 'filmid': tt1323594}, {'film': Despicable Me 3, 'votes': 115878, 'rating': 6.3, 'filmid': tt3469046}, {'film': Aquaman, 'votes': 386990, 'rating': 6.9, 'filmid': tt1477834}] │ average                                │ true      │  2018 │\n",
      "│ Julie Andrews │ [{'film': Darling Lili, 'votes': 1990, 'rating': 6.1, 'filmid': tt0065611}, {'film': The Tamarind Seed, 'votes': 1891, 'rating': 6.4, 'filmid': tt0072253}, {'film': The Pink Panther Strikes Again, 'votes': 28129, 'rating': 7.2, 'filmid': tt0075066}, {'film': 10, 'votes': 15327, 'rating': 6.1, 'filmid': tt0078721}, {'film': Little Miss Marker, 'votes': 1345, 'rating': 6.4, 'filmid': tt0081063}, {'film': S.O.B., 'votes': 5469, 'rating': 6.4, 'filmid': tt0083015}, {'film': Victor Victoria, 'votes': 19571, 'rating': 7.6, 'filmid': tt0084865}, {'film': Trail of the Pink Panther, 'votes': 9692, 'rating': 5.0, 'filmid': tt0084814}, {'film': The Man Who Loved Women, 'votes': 2159, 'rating': 5.3, 'filmid': tt0085891}, {'film': Duet for One, 'votes': 830, 'rating': 6.9, 'filmid': tt0092934}, {'film': That's Life!, 'votes': 1362, 'rating': 6.0, 'filmid': tt0092079}, {'film': A Fine Romance, 'votes': 268, 'rating': 5.2, 'filmid': tt0103055}, {'film': Relative Values, 'votes': 2229, 'rating': 6.5, 'filmid': tt0210943}, {'film': The Princess Diaries, 'votes': 130027, 'rating': 6.4, 'filmid': tt0247638}, {'film': Unconditional Love, 'votes': 3539, 'rating': 6.8, 'filmid': tt0219374}, {'film': Shrek 2, 'votes': 423466, 'rating': 7.2, 'filmid': tt0298148}, {'film': The Princess Diaries 2: Royal Engagement, 'votes': 74955, 'rating': 5.8, 'filmid': tt0368933}, {'film': Shrek the Third, 'votes': 283180, 'rating': 6.1, 'filmid': tt0413267}, {'film': Enchanted, 'votes': 178114, 'rating': 7.0, 'filmid': tt0461770}, {'film': Tooth Fairy, 'votes': 42763, 'rating': 5.0, 'filmid': tt0808510}, {'film': Shrek Forever After, 'votes': 186812, 'rating': 6.3, 'filmid': tt0892791}, {'film': Despicable Me, 'votes': 504665, 'rating': 7.6, 'filmid': tt1323594}, {'film': Despicable Me 3, 'votes': 115878, 'rating': 6.3, 'filmid': tt3469046}, {'film': Aquaman, 'votes': 386990, 'rating': 6.9, 'filmid': tt1477834}] │ average                                │ true      │  2019 │\n",
      "│ Julie Andrews │ [{'film': Darling Lili, 'votes': 1990, 'rating': 6.1, 'filmid': tt0065611}, {'film': The Tamarind Seed, 'votes': 1891, 'rating': 6.4, 'filmid': tt0072253}, {'film': The Pink Panther Strikes Again, 'votes': 28129, 'rating': 7.2, 'filmid': tt0075066}, {'film': 10, 'votes': 15327, 'rating': 6.1, 'filmid': tt0078721}, {'film': Little Miss Marker, 'votes': 1345, 'rating': 6.4, 'filmid': tt0081063}, {'film': S.O.B., 'votes': 5469, 'rating': 6.4, 'filmid': tt0083015}, {'film': Victor Victoria, 'votes': 19571, 'rating': 7.6, 'filmid': tt0084865}, {'film': Trail of the Pink Panther, 'votes': 9692, 'rating': 5.0, 'filmid': tt0084814}, {'film': The Man Who Loved Women, 'votes': 2159, 'rating': 5.3, 'filmid': tt0085891}, {'film': Duet for One, 'votes': 830, 'rating': 6.9, 'filmid': tt0092934}, {'film': That's Life!, 'votes': 1362, 'rating': 6.0, 'filmid': tt0092079}, {'film': A Fine Romance, 'votes': 268, 'rating': 5.2, 'filmid': tt0103055}, {'film': Relative Values, 'votes': 2229, 'rating': 6.5, 'filmid': tt0210943}, {'film': The Princess Diaries, 'votes': 130027, 'rating': 6.4, 'filmid': tt0247638}, {'film': Unconditional Love, 'votes': 3539, 'rating': 6.8, 'filmid': tt0219374}, {'film': Shrek 2, 'votes': 423466, 'rating': 7.2, 'filmid': tt0298148}, {'film': The Princess Diaries 2: Royal Engagement, 'votes': 74955, 'rating': 5.8, 'filmid': tt0368933}, {'film': Shrek the Third, 'votes': 283180, 'rating': 6.1, 'filmid': tt0413267}, {'film': Enchanted, 'votes': 178114, 'rating': 7.0, 'filmid': tt0461770}, {'film': Tooth Fairy, 'votes': 42763, 'rating': 5.0, 'filmid': tt0808510}, {'film': Shrek Forever After, 'votes': 186812, 'rating': 6.3, 'filmid': tt0892791}, {'film': Despicable Me, 'votes': 504665, 'rating': 7.6, 'filmid': tt1323594}, {'film': Despicable Me 3, 'votes': 115878, 'rating': 6.3, 'filmid': tt3469046}, {'film': Aquaman, 'votes': 386990, 'rating': 6.9, 'filmid': tt1477834}] │ average                                │ true      │  2020 │\n",
      "│ Julie Andrews │ [{'film': Darling Lili, 'votes': 1990, 'rating': 6.1, 'filmid': tt0065611}, {'film': The Tamarind Seed, 'votes': 1891, 'rating': 6.4, 'filmid': tt0072253}, {'film': The Pink Panther Strikes Again, 'votes': 28129, 'rating': 7.2, 'filmid': tt0075066}, {'film': 10, 'votes': 15327, 'rating': 6.1, 'filmid': tt0078721}, {'film': Little Miss Marker, 'votes': 1345, 'rating': 6.4, 'filmid': tt0081063}, {'film': S.O.B., 'votes': 5469, 'rating': 6.4, 'filmid': tt0083015}, {'film': Victor Victoria, 'votes': 19571, 'rating': 7.6, 'filmid': tt0084865}, {'film': Trail of the Pink Panther, 'votes': 9692, 'rating': 5.0, 'filmid': tt0084814}, {'film': The Man Who Loved Women, 'votes': 2159, 'rating': 5.3, 'filmid': tt0085891}, {'film': Duet for One, 'votes': 830, 'rating': 6.9, 'filmid': tt0092934}, {'film': That's Life!, 'votes': 1362, 'rating': 6.0, 'filmid': tt0092079}, {'film': A Fine Romance, 'votes': 268, 'rating': 5.2, 'filmid': tt0103055}, {'film': Relative Values, 'votes': 2229, 'rating': 6.5, 'filmid': tt0210943}, {'film': The Princess Diaries, 'votes': 130027, 'rating': 6.4, 'filmid': tt0247638}, {'film': Unconditional Love, 'votes': 3539, 'rating': 6.8, 'filmid': tt0219374}, {'film': Shrek 2, 'votes': 423466, 'rating': 7.2, 'filmid': tt0298148}, {'film': The Princess Diaries 2: Royal Engagement, 'votes': 74955, 'rating': 5.8, 'filmid': tt0368933}, {'film': Shrek the Third, 'votes': 283180, 'rating': 6.1, 'filmid': tt0413267}, {'film': Enchanted, 'votes': 178114, 'rating': 7.0, 'filmid': tt0461770}, {'film': Tooth Fairy, 'votes': 42763, 'rating': 5.0, 'filmid': tt0808510}, {'film': Shrek Forever After, 'votes': 186812, 'rating': 6.3, 'filmid': tt0892791}, {'film': Despicable Me, 'votes': 504665, 'rating': 7.6, 'filmid': tt1323594}, {'film': Despicable Me 3, 'votes': 115878, 'rating': 6.3, 'filmid': tt3469046}, {'film': Aquaman, 'votes': 386990, 'rating': 6.9, 'filmid': tt1477834}] │ average                                │ true      │  2021 │\n",
      "├───────────────┴────────────────────────────────────────────────────────────────────────────────────────────────────────────────────────────────────────────────────────────────────────────────────────────────────────────────────────────────────────────────────────────────────────────────────────────────────────────────────────────────────────────────────────────────────────────────────────────────────────────────────────────────────────────────────────────────────────────────────────────────────────────────────────────────────────────────────────────────────────────────────────────────────────────────────────────────────────────────────────────────────────────────────────────────────────────────────────────────────────────────────────────────────────────────────────────────────────────────────────────────────────────────────────────────────────────────────────────────────────────────────────────────────────────────────────────────────────────────────────────────────────────────────────────────────────────────────────────────────────────────────────────────────────────────────────────────────────────────────────────────────────────────────────────────────────────────────────────────────────────────────────────────────────────────────────────────────────────────────────────────────────────────────────────────────────────────────────────────────────────────────────────────────────────────────────────────────────────────────────────────────────────────────────────────────────────────────────────────────────────────────────────────────────────────────────────────────────────────────────────────────────────────────────────────────────────────────────────────────────────────────────────────────────────────────────────────────────────────────────────────────────────────────────────────────────────────────────────────────────────────────────────────────────────────────────────────────────────────────┴────────────────────────────────────────┴───────────┴───────┤\n",
      "│ 52 rows (20 shown)                                                                                                                                                                                                                                                                                                                                                                                                                                                                                                                                                                                                                                                                                                                                                                                                                                                                                                                                                                                                                                                                                                                                                                                                                                                                                                                                                                                                                                                                                                                                                                                                                                                                                                                                                                                                                                                                                                                                                                                                                                    5 columns │\n",
      "└─────────────────────────────────────────────────────────────────────────────────────────────────────────────────────────────────────────────────────────────────────────────────────────────────────────────────────────────────────────────────────────────────────────────────────────────────────────────────────────────────────────────────────────────────────────────────────────────────────────────────────────────────────────────────────────────────────────────────────────────────────────────────────────────────────────────────────────────────────────────────────────────────────────────────────────────────────────────────────────────────────────────────────────────────────────────────────────────────────────────────────────────────────────────────────────────────────────────────────────────────────────────────────────────────────────────────────────────────────────────────────────────────────────────────────────────────────────────────────────────────────────────────────────────────────────────────────────────────────────────────────────────────────────────────────────────────────────────────────────────────────────────────────────────────────────────────────────────────────────────────────────────────────────────────────────────────────────────────────────────────────────────────────────────────────────────────────────────────────────────────────────────────────────────────────────────────────────────────────────────────────────────────────────────────────────────────────────────────────────────────────────────────────────────────────────────────────────────────────────────────────────────────────────────────────────────────────────────────────────────────────────────────────────────────────────────────────────────────────────────────────────────────────────────────────────────────────────────────────────────────────────────────────────────────────────────────────────────────────────────────────────────────────────────────────────────────────────────────┘\n",
      "\n"
     ]
    }
   ],
   "source": [
    "with duckdb.connect('./src/db.duckdb') as con:\n",
    "    con.sql(\"\"\"\n",
    "            select\n",
    "                *\n",
    "            from actors\n",
    "            where\n",
    "                actor = 'Julie Andrews'\n",
    "            \"\"\").show()"
   ]
  },
  {
   "cell_type": "markdown",
   "metadata": {},
   "source": [
    "3. **DDL for `actors_history_scd` table:** Create a DDL for an `actors_history_scd` table with the following features:\n",
    "    - Implements type 2 dimension modeling (i.e., includes `start_date` and `end_date` fields).\n",
    "    - Tracks `quality_class` and `is_active` status for each actor in the `actors` table."
   ]
  },
  {
   "cell_type": "code",
   "execution_count": 4,
   "metadata": {},
   "outputs": [],
   "source": [
    "with duckdb.connect('src/db.duckdb') as con:\n",
    "    con.sql(\"CREATE TABLE actors_history_scd (actor text, quality_class quality_class, is_active boolean, start_date integer, end_date integer)\")"
   ]
  },
  {
   "cell_type": "code",
   "execution_count": 6,
   "metadata": {},
   "outputs": [
    {
     "name": "stdout",
     "output_type": "stream",
     "text": [
      "┌─────────────────────┬────────────────────────────────────────────────────────────────────────────────────────────────────────────────────────────────────────────────────────────────────────────────────────────────────────────────────────────────────────────────────────────────────────────────────────────────────────────────────────────────────────────────────────────────────────────────────────────────────────────────┬────────────────────────────────────────┬───────────┬───────┐\n",
      "│        actor        │                                                                                                                                                                                                     films                                                                                                                                                                                                      │             quality_class              │ is_active │ year  │\n",
      "│       varchar       │                                                                                                                                                                      struct(film varchar, votes integer, rating float, filmid varchar)[]                                                                                                                                                                       │ enum('star', 'good', 'average', 'bad') │  boolean  │ int32 │\n",
      "├─────────────────────┼────────────────────────────────────────────────────────────────────────────────────────────────────────────────────────────────────────────────────────────────────────────────────────────────────────────────────────────────────────────────────────────────────────────────────────────────────────────────────────────────────────────────────────────────────────────────────────────────────────────────┼────────────────────────────────────────┼───────────┼───────┤\n",
      "│ John Gielgud        │ [{'film': Julius Caesar, 'votes': 1552, 'rating': 6.1, 'filmid': tt0065922}]                                                                                                                                                                                                                                                                                                                                   │ average                                │ true      │  1970 │\n",
      "│ Sam Elliott         │ [{'film': The Games, 'votes': 417, 'rating': 6.2, 'filmid': tt0065757}]                                                                                                                                                                                                                                                                                                                                        │ average                                │ true      │  1970 │\n",
      "│ Jeffrey Jones       │ [{'film': The Revolutionary, 'votes': 229, 'rating': 5.8, 'filmid': tt0066296}]                                                                                                                                                                                                                                                                                                                                │ bad                                    │ true      │  1970 │\n",
      "│ Donald Sutherland   │ [{'film': MASH, 'votes': 67892, 'rating': 7.4, 'filmid': tt0066026}, {'film': Kelly's Heroes, 'votes': 45666, 'rating': 7.6, 'filmid': tt0065938}, {'film': Start the Revolution Without Me, 'votes': 2650, 'rating': 6.5, 'filmid': tt0066402}, {'film': Alex in Wonderland, 'votes': 734, 'rating': 5.4, 'filmid': tt0065380}, {'film': Act of the Heart, 'votes': 191, 'rating': 6.1, 'filmid': tt0065370}] │ average                                │ true      │  1970 │\n",
      "│ Judith Anderson     │ [{'film': A Man Called Horse, 'votes': 8217, 'rating': 6.9, 'filmid': tt0066049}]                                                                                                                                                                                                                                                                                                                              │ average                                │ true      │  1970 │\n",
      "│ Sonia Braga         │ [{'film': A Moreninha, 'votes': 121, 'rating': 5.7, 'filmid': tt0189762}]                                                                                                                                                                                                                                                                                                                                      │ bad                                    │ true      │  1970 │\n",
      "│ Jim Brown           │ [{'film': El Condor, 'votes': 983, 'rating': 6.0, 'filmid': tt0065570}, {'film': ...tick... tick... tick..., 'votes': 952, 'rating': 6.7, 'filmid': tt0065360}, {'film': The Grasshopper, 'votes': 380, 'rating': 5.8, 'filmid': tt0065795}]                                                                                                                                                                   │ average                                │ true      │  1970 │\n",
      "│ Hector Elizondo     │ [{'film': The Landlord, 'votes': 2250, 'rating': 7.0, 'filmid': tt0065963}]                                                                                                                                                                                                                                                                                                                                    │ average                                │ true      │  1970 │\n",
      "│ Katharine Ross      │ [{'film': Fools, 'votes': 125, 'rating': 5.3, 'filmid': tt0065731}]                                                                                                                                                                                                                                                                                                                                            │ bad                                    │ true      │  1970 │\n",
      "│ Eva Marie Saint     │ [{'film': Loving, 'votes': 567, 'rating': 6.1, 'filmid': tt0066017}]                                                                                                                                                                                                                                                                                                                                           │ average                                │ true      │  1970 │\n",
      "│        ·            │                                  ·                                                                                                                                                                                                                                                                                                                                                                             │    ·                                   │  ·        │    ·  │\n",
      "│        ·            │                                  ·                                                                                                                                                                                                                                                                                                                                                                             │    ·                                   │  ·        │    ·  │\n",
      "│        ·            │                                  ·                                                                                                                                                                                                                                                                                                                                                                             │    ·                                   │  ·        │    ·  │\n",
      "│ Jessie Royce Landis │ [{'film': Airport, 'votes': 17589, 'rating': 6.6, 'filmid': tt0065377}]                                                                                                                                                                                                                                                                                                                                        │ average                                │ true      │  1970 │\n",
      "│ Roger Lloyd Pack    │ [{'film': Figures in a Landscape, 'votes': 1247, 'rating': 6.6, 'filmid': tt0065720}]                                                                                                                                                                                                                                                                                                                          │ average                                │ true      │  1970 │\n",
      "│ Sondra Locke        │ [{'film': Cover Me Babe, 'votes': 158, 'rating': 4.3, 'filmid': tt0065582}]                                                                                                                                                                                                                                                                                                                                    │ bad                                    │ true      │  1970 │\n",
      "│ Guy Madison         │ [{'film': Reverend's Colt, 'votes': 114, 'rating': 5.1, 'filmid': tt0066295}]                                                                                                                                                                                                                                                                                                                                  │ bad                                    │ true      │  1970 │\n",
      "│ Nancy Marchand      │ [{'film': Tell Me That You Love Me, Junie Moon, 'votes': 726, 'rating': 6.2, 'filmid': tt0066445}]                                                                                                                                                                                                                                                                                                             │ average                                │ true      │  1970 │\n",
      "│ Ingrid Pitt         │ [{'film': The Vampire Lovers, 'votes': 5617, 'rating': 6.5, 'filmid': tt0066518}]                                                                                                                                                                                                                                                                                                                              │ average                                │ true      │  1970 │\n",
      "│ Vito Scotti         │ [{'film': The Boatniks, 'votes': 679, 'rating': 5.5, 'filmid': tt0065482}, {'film': The Aristocats, 'votes': 95053, 'rating': 7.1, 'filmid': tt0065421}]                                                                                                                                                                                                                                                       │ average                                │ true      │  1970 │\n",
      "│ Eli Wallach         │ [{'film': The Angel Levine, 'votes': 616, 'rating': 5.9, 'filmid': tt0065400}, {'film': The People Next Door, 'votes': 200, 'rating': 6.3, 'filmid': tt0066209}, {'film': The Adventures of Gerard, 'votes': 267, 'rating': 5.1, 'filmid': tt0065375}, {'film': Zig Zag, 'votes': 365, 'rating': 6.0, 'filmid': tt0066605}]                                                                                    │ bad                                    │ true      │  1970 │\n",
      "│ Dennis Weaver       │ [{'film': A Man Called Sledge, 'votes': 1136, 'rating': 5.9, 'filmid': tt0066050}]                                                                                                                                                                                                                                                                                                                             │ bad                                    │ true      │  1970 │\n",
      "│ Paul Williams       │ [{'film': Watermelon Man, 'votes': 1814, 'rating': 6.6, 'filmid': tt0066550}]                                                                                                                                                                                                                                                                                                                                  │ average                                │ true      │  1970 │\n",
      "├─────────────────────┴────────────────────────────────────────────────────────────────────────────────────────────────────────────────────────────────────────────────────────────────────────────────────────────────────────────────────────────────────────────────────────────────────────────────────────────────────────────────────────────────────────────────────────────────────────────────────────────────────────────────┴────────────────────────────────────────┴───────────┴───────┤\n",
      "│ 556 rows (20 shown)                                                                                                                                                                                                                                                                                                                                                                                                                                                                     5 columns │\n",
      "└───────────────────────────────────────────────────────────────────────────────────────────────────────────────────────────────────────────────────────────────────────────────────────────────────────────────────────────────────────────────────────────────────────────────────────────────────────────────────────────────────────────────────────────────────────────────────────────────────────────────────────────────────────────────────────────────────────────────────────────────────┘\n",
      "\n"
     ]
    }
   ],
   "source": [
    "with duckdb.connect('src/db.duckdb') as con:\n",
    "    con.sql(\"select * from actors\").show()\n"
   ]
  },
  {
   "cell_type": "code",
   "execution_count": null,
   "metadata": {},
   "outputs": [],
   "source": []
  }
 ],
 "metadata": {
  "kernelspec": {
   "display_name": ".venv",
   "language": "python",
   "name": "python3"
  },
  "language_info": {
   "codemirror_mode": {
    "name": "ipython",
    "version": 3
   },
   "file_extension": ".py",
   "mimetype": "text/x-python",
   "name": "python",
   "nbconvert_exporter": "python",
   "pygments_lexer": "ipython3",
   "version": "3.12.2"
  }
 },
 "nbformat": 4,
 "nbformat_minor": 2
}
